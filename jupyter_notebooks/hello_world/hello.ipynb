{
 "cells": [
  {
   "cell_type": "code",
   "execution_count": 4,
   "metadata": {},
   "outputs": [
    {
     "name": "stderr",
     "output_type": "stream",
     "text": [
      "C:\\Users\\Public\\Documents\\Public\\Temp\\ipykernel_31000\\2280909694.py:3: DtypeWarning: Columns (29) have mixed types. Specify dtype option on import or set low_memory=False.\n",
      "  data = pd.read_csv('INDISPONIVEIS_20230404.csv', sep=';')\n"
     ]
    }
   ],
   "source": [
    "import pandas as pd\n",
    "import numpy as np\n",
    "data = pd.read_csv('INDISPONIVEIS_20230404.csv', sep=';')"
   ]
  },
  {
   "cell_type": "code",
   "execution_count": 5,
   "metadata": {},
   "outputs": [
    {
     "name": "stdout",
     "output_type": "stream",
     "text": [
      "(1248118, 36)\n"
     ]
    }
   ],
   "source": [
    "# propriedade de resumo do DataFrame linhas / coluna\n",
    "print(data.shape)"
   ]
  },
  {
   "cell_type": "code",
   "execution_count": 6,
   "metadata": {},
   "outputs": [
    {
     "name": "stdout",
     "output_type": "stream",
     "text": [
      "   COD_CN         DT_CADASTRO                                    NOME  CD_RE   \n",
      "0      88  24OCT1994:00:00:00                        ADRIANNO MOREIRA      1  \\\n",
      "1     119  24OCT1994:00:00:00  CN CRIADA PARA TESTES EM NOTAS FISCAIS      1   \n",
      "2     574  16MAY1976:00:00:00                           MARIA ARATAME      2   \n",
      "3     680  21AUG2004:00:00:00                     ALAYR DEGMONT CUNHA      2   \n",
      "4    1104  21SEP1977:00:00:00          ANGELA CAVALCANTI DUTRA COQUET      2   \n",
      "\n",
      "      NOME_RE  CD_GV            NOME_GV  CD_SETOR       NM_SETOR  CD_GRUPO   \n",
      "0         SUL      2          GV COSMOS      1045     ALMA VERDE       NaN  \\\n",
      "1         SUL      2          GV COSMOS      2068  PORTAL DO SOL    8906.0   \n",
      "2  SP CAPITAL     23  GV RAIZES DE GAIA       328       FLAMENCO    7641.0   \n",
      "3  SP CAPITAL     23  GV RAIZES DE GAIA       172      MACKENZIE    7576.0   \n",
      "4  SP CAPITAL     23  GV RAIZES DE GAIA       205        ANTARES    7599.0   \n",
      "\n",
      "   ... VL_ATRASO VL_ACORDO BLOQUEIO  FX_DEBITO PTS_PED_MIN  FAIXA_BHV   \n",
      "0  ...       0.0       0.0      NÃO        NaN         NaN        NaN  \\\n",
      "1  ...       0.0       0.0      NÃO        NaN         NaN        NaN   \n",
      "2  ...       0.0       0.0      NÃO        NaN         NaN       10.0   \n",
      "3  ...       0.0       0.0      NÃO        NaN         NaN        9.0   \n",
      "4  ...       0.0       0.0      NÃO        NaN         NaN       12.0   \n",
      "\n",
      "  FAIXA_BHVMENOS RISCO_CRED        RISCO PLANO_CRESC  \n",
      "0            NaN        NaN         ALTO     Semente  \n",
      "1            NaN        NaN         ALTO     Semente  \n",
      "2            NaN        NaN  MEDIO BAIXO     Semente  \n",
      "3            NaN        NaN  MEDIO BAIXO       Prata  \n",
      "4            NaN        NaN        BAIXO       Prata  \n",
      "\n",
      "[5 rows x 36 columns]\n",
      "            COD_CN         DT_CADASTRO                                   NOME   \n",
      "1248113  313314152  03APR2023:00:00:00               EDILEIDE DOS ANJOS SILVA  \\\n",
      "1248114  313315213  03APR2023:00:00:00                 DENIS CASTILHOS CHAGAS   \n",
      "1248115  313316430  04APR2023:00:00:00            AMANDA RODRIGUES DOS SANTOS   \n",
      "1248116  313316929  04APR2023:00:00:00  JOAO EMANUEL DA SILVA MATTOS VINHOLES   \n",
      "1248117  313318964  04APR2023:00:00:00              GABRIELLY DA ROCHA COLINA   \n",
      "\n",
      "         CD_RE     NOME_RE  CD_GV            NOME_GV  CD_SETOR   \n",
      "1248113      7    NORDESTE    121        GV GIRASSOL       316  \\\n",
      "1248114      1         SUL    134  RIO GRANDE DO SUL      2066   \n",
      "1248115      2  SP CAPITAL    146            PREMIUM      2010   \n",
      "1248116      1         SUL     26          GV ATHENA       353   \n",
      "1248117      1         SUL    134  RIO GRANDE DO SUL      2027   \n",
      "\n",
      "                  NM_SETOR  CD_GRUPO  ... VL_ATRASO VL_ACORDO BLOQUEIO   \n",
      "1248113      SERRA DOURADA   12137.0  ...       0.0       0.0      NÃO  \\\n",
      "1248114      Brilho da Lua   15855.0  ...       0.0       0.0      NÃO   \n",
      "1248115            SAMAUMA   14349.0  ...       0.0       0.0      NÃO   \n",
      "1248116           BLUMENAU    8491.0  ...       0.0       0.0      NÃO   \n",
      "1248117  TRILHA DAS FLORES   15723.0  ...       0.0       0.0      NÃO   \n",
      "\n",
      "         FX_DEBITO PTS_PED_MIN  FAIXA_BHV FAIXA_BHVMENOS RISCO_CRED  RISCO   \n",
      "1248113        NaN         NaN        NaN            NaN        NaN   ALTO  \\\n",
      "1248114        NaN         NaN        NaN            NaN        NaN   ALTO   \n",
      "1248115        NaN         NaN        NaN            NaN        NaN   ALTO   \n",
      "1248116        NaN         NaN        NaN            NaN        NaN   ALTO   \n",
      "1248117        NaN         NaN        NaN            NaN        NaN   ALTO   \n",
      "\n",
      "        PLANO_CRESC  \n",
      "1248113         NaN  \n",
      "1248114         NaN  \n",
      "1248115     Semente  \n",
      "1248116         NaN  \n",
      "1248117         NaN  \n",
      "\n",
      "[5 rows x 36 columns]\n"
     ]
    }
   ],
   "source": [
    "# exibe 5 linha do cabeçalho (HEAD) do rodapé (TAIL)\n",
    "print(data.head())\n",
    "print(data.tail())"
   ]
  },
  {
   "cell_type": "code",
   "execution_count": 7,
   "metadata": {},
   "outputs": [
    {
     "name": "stdout",
     "output_type": "stream",
     "text": [
      "2.0.1\n"
     ]
    }
   ],
   "source": [
    "# mostra a versão\n",
    "print(pd.__version__)"
   ]
  },
  {
   "cell_type": "code",
   "execution_count": 13,
   "metadata": {},
   "outputs": [
    {
     "name": "stdout",
     "output_type": "stream",
     "text": [
      "            COD_CN         DT_CADASTRO                               NOME   \n",
      "1000000  264430581  25NOV2021:00:00:00  SABRINA DE SOUZA GONCALVES ISAIAS  \\\n",
      "1000001  264430662  01DEC2021:00:00:00          ROBERTA MACIEL DOS SANTOS   \n",
      "\n",
      "         CD_RE      NOME_RE  CD_GV             NOME_GV  CD_SETOR     NM_SETOR   \n",
      "1000000      5  SP INTERIOR     31          GV GALAXIA       268      ATITUDE  \\\n",
      "1000001      7     NORDESTE    132  GV FLORES DE CACTO      1718  FLOR DE LUZ   \n",
      "\n",
      "         CD_GRUPO  ... VL_ATRASO VL_ACORDO BLOQUEIO    FX_DEBITO  PTS_PED_MIN   \n",
      "1000000   10862.0  ...  25954.23       0.0   DEBITO  G.181 - 360  D. > 80 PTS  \\\n",
      "1000001   12077.0  ...      0.00       0.0      NÃO          NaN          NaN   \n",
      "\n",
      "         FAIXA_BHV FAIXA_BHVMENOS RISCO_CRED       RISCO PLANO_CRESC  \n",
      "1000000        NaN            NaN        NaN        ALTO    Diamante  \n",
      "1000001        5.0            NaN        NaN  MEDIO ALTO      Bronze  \n",
      "\n",
      "[2 rows x 36 columns]\n"
     ]
    }
   ],
   "source": [
    "# retorna uma linha especifica\n",
    "print(data.loc[1000000])\n",
    "\n",
    "# OU retorna linhas especificas\n",
    "print(data.loc[[1000000,1000001]])"
   ]
  }
 ],
 "metadata": {
  "kernelspec": {
   "display_name": "Python 3",
   "language": "python",
   "name": "python3"
  },
  "language_info": {
   "codemirror_mode": {
    "name": "ipython",
    "version": 3
   },
   "file_extension": ".py",
   "mimetype": "text/x-python",
   "name": "python",
   "nbconvert_exporter": "python",
   "pygments_lexer": "ipython3",
   "version": "3.11.2"
  }
 },
 "nbformat": 4,
 "nbformat_minor": 2
}
